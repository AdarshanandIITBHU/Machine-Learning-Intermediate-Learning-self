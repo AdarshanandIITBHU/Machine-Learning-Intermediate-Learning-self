{
  "nbformat": 4,
  "nbformat_minor": 0,
  "metadata": {
    "colab": {
      "provenance": [],
      "mount_file_id": "1zBGFZx-DJ2ipnI85uO9iszjZBOZq_7M1",
      "authorship_tag": "ABX9TyMV/cnNbb6i19U4xy/p75kp",
      "include_colab_link": true
    },
    "kernelspec": {
      "name": "python3",
      "display_name": "Python 3"
    },
    "language_info": {
      "name": "python"
    }
  },
  "cells": [
    {
      "cell_type": "markdown",
      "metadata": {
        "id": "view-in-github",
        "colab_type": "text"
      },
      "source": [
        "<a href=\"https://colab.research.google.com/github/AdarshanandIITBHU/Machine-Learning-Intermediate-Learning-self/blob/main/working_with_JSON_SQL.ipynb\" target=\"_parent\"><img src=\"https://colab.research.google.com/assets/colab-badge.svg\" alt=\"Open In Colab\"/></a>"
      ]
    },
    {
      "cell_type": "code",
      "execution_count": null,
      "metadata": {
        "id": "bDNkoBokvGAj"
      },
      "outputs": [],
      "source": []
    }
  ]
}