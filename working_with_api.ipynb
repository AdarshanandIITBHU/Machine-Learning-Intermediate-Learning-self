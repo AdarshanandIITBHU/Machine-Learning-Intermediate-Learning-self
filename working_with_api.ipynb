{
  "nbformat": 4,
  "nbformat_minor": 0,
  "metadata": {
    "colab": {
      "provenance": [],
      "mount_file_id": "15pGT2jkYJt5Of-otH74DercANd3Evxw4",
      "authorship_tag": "ABX9TyNHkROAVd3jGYvVK760JEga",
      "include_colab_link": true
    },
    "kernelspec": {
      "name": "python3",
      "display_name": "Python 3"
    },
    "language_info": {
      "name": "python"
    }
  },
  "cells": [
    {
      "cell_type": "markdown",
      "metadata": {
        "id": "view-in-github",
        "colab_type": "text"
      },
      "source": [
        "<a href=\"https://colab.research.google.com/github/AdarshanandIITBHU/Machine-Learning-Intermediate-Learning-self/blob/main/working_with_api.ipynb\" target=\"_parent\"><img src=\"https://colab.research.google.com/assets/colab-badge.svg\" alt=\"Open In Colab\"/></a>"
      ]
    },
    {
      "cell_type": "code",
      "execution_count": null,
      "metadata": {
        "id": "ZpQU7qKoLR7H"
      },
      "outputs": [],
      "source": []
    }
  ]
}